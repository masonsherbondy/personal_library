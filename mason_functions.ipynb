{
 "cells": [
  {
   "cell_type": "code",
   "execution_count": 1,
   "id": "eb590a41",
   "metadata": {},
   "outputs": [
    {
     "data": {
      "text/plain": [
       "True"
      ]
     },
     "execution_count": 1,
     "metadata": {},
     "output_type": "execute_result"
    }
   ],
   "source": [
    "#1\n",
    "#is_two defines a single parameter, x (whatever user input), and determines whether or not that input is\n",
    "#two (it returns a Boolean value of True or False)\n",
    "\n",
    "def is_two(x):\n",
    "    #check to make sure the input is explicitly the integer two or the numerical string for two\n",
    "    if x == 2 or x == '2': \n",
    "        #return bool True if it is two\n",
    "        return True\n",
    "    else:\n",
    "        #return bool False if not\n",
    "        return False\n",
    "\n",
    "is_two('2')"
   ]
  },
  {
   "cell_type": "code",
   "execution_count": 2,
   "id": "da947f46",
   "metadata": {},
   "outputs": [
    {
     "data": {
      "text/plain": [
       "True"
      ]
     },
     "execution_count": 2,
     "metadata": {},
     "output_type": "execute_result"
    }
   ],
   "source": [
    "#2\n",
    "#is_vowel defines a single parameter, x (assuming it is a string of one character), and determines whether the input \n",
    "#is a vowel or not (returns Boolean True or False)\n",
    "def is_vowel(x):\n",
    "    #check to see if the input (lowercased just in case input is uppercased) is in this complete string of vowels\n",
    "    if x.lower() in 'aeiou':\n",
    "        #return bool True if it's in the string\n",
    "        return True\n",
    "    else:\n",
    "        #return bool False if not\n",
    "        return False\n",
    "    \n",
    "is_vowel('A')"
   ]
  },
  {
   "cell_type": "code",
   "execution_count": 3,
   "id": "7faf9f87",
   "metadata": {},
   "outputs": [
    {
     "data": {
      "text/plain": [
       "True"
      ]
     },
     "execution_count": 3,
     "metadata": {},
     "output_type": "execute_result"
    }
   ],
   "source": [
    "#3\n",
    "#is_consonant defines a single parameter, x (string of one character), and returns a Boolean True or False\n",
    "def is_consonant(x):\n",
    "    #check to see if the input character is in this complete list of consonants\n",
    "    if x.lower() in 'bcdfghjklmnpqrstvwxyz':\n",
    "        #return bool True if it is a consonant\n",
    "        return True\n",
    "    else:\n",
    "        #return bool False if it is not a consonant\n",
    "        return False\n",
    "    \n",
    "is_consonant('B')"
   ]
  },
  {
   "cell_type": "code",
   "execution_count": 4,
   "id": "ffbf3106",
   "metadata": {},
   "outputs": [
    {
     "data": {
      "text/plain": [
       "'Success'"
      ]
     },
     "execution_count": 4,
     "metadata": {},
     "output_type": "execute_result"
    }
   ],
   "source": [
    "#4\n",
    "#capitalize_consonant_words defines a single parameter, a string, and returns a string capitalized\n",
    "#if it begins with a consonant\n",
    "def capitalize_consonant_words(string):\n",
    "    #check to see if the first letter of the string is a consonant\n",
    "    if is_consonant(string[0]) == True:\n",
    "        #return the string capitalized if the first letter checks out\n",
    "        return string.capitalize()\n",
    "    else:\n",
    "        #return the string as it was input; does not capitlize string if first letter not a consonant\n",
    "        return string\n",
    "    \n",
    "capitalize_consonant_words('success')"
   ]
  },
  {
   "cell_type": "code",
   "execution_count": 5,
   "id": "e1b8a0af",
   "metadata": {},
   "outputs": [
    {
     "data": {
      "text/plain": [
       "4.01"
      ]
     },
     "execution_count": 5,
     "metadata": {},
     "output_type": "execute_result"
    }
   ],
   "source": [
    "#5\n",
    "#calculate_tip defines two parameters, a float and another float, and returns a float value\n",
    "def calculate_tip(percentage, bill):\n",
    "    #set identifier 'tip' to the value of the product for the percentage (float 1) and the bill (float 2) \n",
    "    tip = bill * percentage\n",
    "    #we just want the tip (rounded to two decimal places)\n",
    "    return round(tip, 2)\n",
    "\n",
    "calculate_tip(.22, 18.24)"
   ]
  },
  {
   "cell_type": "code",
   "execution_count": 6,
   "id": "333a4b1a",
   "metadata": {},
   "outputs": [
    {
     "data": {
      "text/plain": [
       "5.0"
      ]
     },
     "execution_count": 6,
     "metadata": {},
     "output_type": "execute_result"
    }
   ],
   "source": [
    "#6 \n",
    "#apply_discount defines two parameters, two floats, and returns a float value\n",
    "def apply_discount(price, disc):\n",
    "    #return the discounted price (price minus discount) as a float, rounded to two decimals\n",
    "    return round(price * (1 - disc), 2)\n",
    "\n",
    "apply_discount(24.99, .8)"
   ]
  },
  {
   "cell_type": "code",
   "execution_count": 7,
   "id": "e8f3b88c",
   "metadata": {},
   "outputs": [
    {
     "data": {
      "text/plain": [
       "12345678.9"
      ]
     },
     "execution_count": 7,
     "metadata": {},
     "output_type": "execute_result"
    }
   ],
   "source": [
    "#7\n",
    "#my handle_commas defines a single parameter, a string, and returns a float value\n",
    "def handle_commas(string):\n",
    "    #assign a variable to an empty string to work with\n",
    "    c_handled = ''\n",
    "    #start a loop to check every character in string input\n",
    "    for c in string:\n",
    "        #if the character is a number, add to the variable (string)\n",
    "        if c.isdigit():\n",
    "            c_handled += c\n",
    "        #if the character is a decimal, add to the string\n",
    "        elif c == '.':\n",
    "            c_handled += '.'\n",
    "    #return the string as a float\n",
    "    return float(c_handled)\n",
    "\n",
    "handle_commas('12,345,678.9')"
   ]
  },
  {
   "cell_type": "code",
   "execution_count": 8,
   "id": "38a37d3a",
   "metadata": {},
   "outputs": [
    {
     "data": {
      "text/plain": [
       "'D'"
      ]
     },
     "execution_count": 8,
     "metadata": {},
     "output_type": "execute_result"
    }
   ],
   "source": [
    "#8\n",
    "#get_letter_grade determines a single parameter, an integer, and returns a string value\n",
    "def get_letter_grade(x):\n",
    "    #check if the integer is above the value of 89, return string value 'A' if it is\n",
    "    if x > 89:\n",
    "        return 'A'\n",
    "    #since we are checking if the input is greater than a certain value, and python reads top-to-bottom, we can \n",
    "    #just check if the input is above a value less than the previous if-clause value and return the \n",
    "    #appropriate/ corresponding string value\n",
    "    elif x > 79:\n",
    "        return 'B'\n",
    "    elif x > 69:\n",
    "        return 'C'\n",
    "    elif x > 64:\n",
    "        return 'D'\n",
    "    else:\n",
    "        return 'F'   \n",
    "    \n",
    "get_letter_grade(69)"
   ]
  },
  {
   "cell_type": "code",
   "execution_count": 9,
   "id": "1fc43dd9",
   "metadata": {},
   "outputs": [
    {
     "data": {
      "text/plain": [
       "'Nnnn!!!!'"
      ]
     },
     "execution_count": 9,
     "metadata": {},
     "output_type": "execute_result"
    }
   ],
   "source": [
    "#9\n",
    "#remove_vowels determines a single parameter, a string, and returns a string\n",
    "def remove_vowels(string):\n",
    "    #assign a variable to an empty string\n",
    "    v_removed = ''\n",
    "    #start a loop to check if characters in input string are not vowels\n",
    "    for l in string:\n",
    "        if not is_vowel(l):\n",
    "            #only add vowel-opposite characters to the string variable\n",
    "            v_removed += l\n",
    "    #return the string variable with characters that are not vowels\n",
    "    return v_removed\n",
    "\n",
    "remove_vowels('Nnnnooooooooooo!!!!')"
   ]
  },
  {
   "cell_type": "code",
   "execution_count": 10,
   "id": "b93c4739",
   "metadata": {
    "scrolled": true
   },
   "outputs": [
    {
     "name": "stdout",
     "output_type": "stream",
     "text": [
      "first_name\n",
      "name\n",
      "completed\n",
      "man1\n"
     ]
    }
   ],
   "source": [
    "#10\n",
    "#normalize_name defines a single parameter, a string, and returns a string value\n",
    "def normalize_name(string):\n",
    "    #python identifiers can not start with numbers. Loop through string until first character of string is not \n",
    "    #a number. move numbers to the back\n",
    "    while string[0].isdigit():\n",
    "        string = string[1:] + string[0]\n",
    "    #assign a variable to: the input string stripped of all leading or trailing white space, as well as with all\n",
    "    #lowercased characters\n",
    "    f_name = string.strip().lower() \n",
    "    #assign a variable to an empty string\n",
    "    e_name = ''\n",
    "    #twice\n",
    "    end_game = ''\n",
    "    #start a loop to see if string characters are python identifer compliant\n",
    "    for char in f_name:\n",
    "        #include space so we don't have random underscores at the beginning or end if original string input includes\n",
    "        #invalid characters for python-identifier compliance at the beginning or end of original input and spaces\n",
    "        #inbetween those invalid characters and valid ones. check to see if characters are in approved list\n",
    "        if char in 'abcdefghijklmnopqrstuvwxyz_0123456789 ':\n",
    "            #add all the approved characters to the first empty string variable\n",
    "            e_name += char\n",
    "    #assign a variable to the result stripped of all the leftover leading or trailing whitespace\n",
    "    g_name = e_name.strip()\n",
    "    #start another for loop to get a cleaner string\n",
    "    for char in g_name:\n",
    "        #check to see if character is py-id compliant\n",
    "        if char in 'abcdefghijklmnopqrstuvwxyz_0123456789':\n",
    "            #add py-id compliant characters to second empty string variable\n",
    "            end_game += char\n",
    "        #check to see if character is a space\n",
    "        if char == ' ':\n",
    "            #add an underscore to the second string variable in a space's stead\n",
    "            end_game += '_'\n",
    "    #return the python-identifier-compliant second string variable value\n",
    "    return end_game\n",
    "\n",
    "if __name__ == '__main__':\n",
    "    print(normalize_name('First name'))\n",
    "    print(normalize_name('Name'))\n",
    "    print(normalize_name('% Completed'))\n",
    "    print(normalize_name('1man'))\n"
   ]
  },
  {
   "cell_type": "code",
   "execution_count": 11,
   "id": "0d69ed8b",
   "metadata": {},
   "outputs": [
    {
     "data": {
      "text/plain": [
       "[1, 3, 6, 10, 15, 21, 28, 36, 45, 55]"
      ]
     },
     "execution_count": 11,
     "metadata": {},
     "output_type": "execute_result"
    }
   ],
   "source": [
    "#Example code\n",
    "#cumulative_sum([1, 1, 1]) returns [1, 2, 3]\n",
    "#cumulative_sum([1, 2, 3, 4]) returns [1, 3, 6, 10]\n",
    "\n",
    "#interpretation\n",
    "#if A = [1, 1, 1], then cumulative_sum(A) = [(A[0]), (A[0] + A[1]), (A[0] + A[1] + A[2])]\n",
    "#cumulative_sum(A) = [sum(A[:1]), sum(A[:2]), sum(A[:3])]\n",
    "#cumulative_sum(A) = [sum(A[:0 + 1]), sum(A[:1 + 1]), sum(A[:2 + 1])]\n",
    "#range(len(A)) = range(0, 3) --> which is zero to two (0, 1, 2)--> which is the complete index for A\n",
    "\n",
    "#cumulative_sum defines a single parameter, a list, and returns a list\n",
    "def cumulative_sum(L):\n",
    "    #return a list of numbers that are each the sum of a number in the input list plus all of the numbers prior to\n",
    "    #this number in the index. use python's zero-indexing to format the individual sums for the return list. \n",
    "    #use a for loop to run through the index of the input list and generate sums for each item on the return list.\n",
    "    return [sum(L[:n + 1]) for n in range(len(L))]\n",
    "\n",
    "c = [1, 2, 3, 4, 5, 6, 7, 8, 9, 10]\n",
    "cumulative_sum(c)"
   ]
  },
  {
   "cell_type": "code",
   "execution_count": 12,
   "id": "38d4f615",
   "metadata": {},
   "outputs": [],
   "source": [
    "#Mason's personal functions\n",
    "#import mason_functions as mf"
   ]
  },
  {
   "cell_type": "code",
   "execution_count": 13,
   "id": "a45dfacc",
   "metadata": {},
   "outputs": [
    {
     "data": {
      "text/plain": [
       "38"
      ]
     },
     "execution_count": 13,
     "metadata": {},
     "output_type": "execute_result"
    }
   ],
   "source": [
    "#pull a number from a string with one number \n",
    "def pull_an_integer_from_a_string_with_one_integer(string):\n",
    "    number = ''\n",
    "    for char in string:\n",
    "        if char.isdigit():\n",
    "            number += char\n",
    "    return int(number)\n",
    "\n",
    "pull_an_integer_from_a_string_with_one_integer('Yo! You have 38 unread messages!')\n",
    "#good to alias it as 'pin'\n",
    "#can copy and paste below after '#' marker:\n",
    "#from mason_functions import pull_an_integer_from_a_string_with_one_integer as pin"
   ]
  },
  {
   "cell_type": "code",
   "execution_count": 14,
   "id": "efa78988",
   "metadata": {},
   "outputs": [
    {
     "data": {
      "text/plain": [
       "2.5"
      ]
     },
     "execution_count": 14,
     "metadata": {},
     "output_type": "execute_result"
    }
   ],
   "source": [
    "#get an average of one list (take one paramater and return a float)\n",
    "def average(n):\n",
    "    return sum(n) / len(n)\n",
    "\n",
    "a = [1, 2, 3, 4,]\n",
    "average(a)"
   ]
  },
  {
   "cell_type": "code",
   "execution_count": 15,
   "id": "ce207f3c",
   "metadata": {},
   "outputs": [
    {
     "data": {
      "text/plain": [
       "[2, 3, 4, 5, 1]"
      ]
     },
     "execution_count": 15,
     "metadata": {},
     "output_type": "execute_result"
    }
   ],
   "source": [
    "#move the first item in an sequence to the last position of a sequence (take one parameter and return a list)\n",
    "def first_to_last(s):\n",
    "    #assign a variable to the first item of the sequence\n",
    "    x = s[0]\n",
    "    #assign a variable to the sequence starting with the second item and add the first item to the end of the sequence\n",
    "    s = s[1:] + [x]\n",
    "    #return the new sequence with the first item at the end and the second item in front\n",
    "    return s\n",
    "\n",
    "first_to_last([1, 2, 3, 4, 5,])"
   ]
  },
  {
   "cell_type": "code",
   "execution_count": 16,
   "id": "0e11c090",
   "metadata": {},
   "outputs": [
    {
     "name": "stdout",
     "output_type": "stream",
     "text": [
      "75.0\n",
      "3\n",
      "4\n",
      "46.0\n"
     ]
    }
   ],
   "source": [
    "#get the median of a list of numbers (take one parameter and return a float)\n",
    "def median(x):\n",
    "    #sort the list so function code can slice into an appropriate data set\n",
    "    x.sort()\n",
    "    #assign a variable to the total number of items in the list (how many data points do we have?)\n",
    "    l = len(x)\n",
    "    #assign a variable to half of the total of numbers(data points) in the list. If the list is even or odd, the\n",
    "    #value of this variable is an integer that represents how many times the value two goes into the total of\n",
    "    #numbers, i.e., 9 // 2 = 4 and 8 // 2 = 4\n",
    "    n = l // 2\n",
    "    #introduce an 'if' conditional to determine if the total number of datapoints is odd\n",
    "    if l % 2 == 1:\n",
    "        #if it is, return the middle datapoint\n",
    "        return x[n]\n",
    "    #otherwise, just return the value in the middle of the two middlest points\n",
    "    return (x[n - 1] + x[n]) / 2 \n",
    "\n",
    "#condensed\n",
    "#def median(x):\n",
    "    #x.sort()\n",
    "    #l = len(x)\n",
    "    #n = l // 2\n",
    "    #if l % 2 == 1:\n",
    "        #return x[n]\n",
    "    #return (x[n - 1] + x[n]) / 2\n",
    "\n",
    "if __name__ == '__main__':\n",
    "    print(median([1, 2, 70, 80, 90, 100]))\n",
    "    print(median([1, 2, 3, 4, 5]))\n",
    "    print(median([4, 8, 1, 2, 38]))\n",
    "    print(median([1, 100, 2, 90]))\n"
   ]
  },
  {
   "cell_type": "code",
   "execution_count": 17,
   "id": "af094515",
   "metadata": {},
   "outputs": [
    {
     "data": {
      "text/plain": [
       "4"
      ]
     },
     "execution_count": 17,
     "metadata": {},
     "output_type": "execute_result"
    }
   ],
   "source": [
    "#count some vowels m8\n",
    "def count_vowels(string):\n",
    "    count = 0\n",
    "    for x in string:\n",
    "        if is_vowel(x):\n",
    "            count += 1\n",
    "    return count\n",
    "\n",
    "count_vowels('Hadouken!')"
   ]
  },
  {
   "cell_type": "code",
   "execution_count": 18,
   "id": "8dd11ff3",
   "metadata": {},
   "outputs": [
    {
     "data": {
      "text/plain": [
       "6"
      ]
     },
     "execution_count": 18,
     "metadata": {},
     "output_type": "execute_result"
    }
   ],
   "source": [
    "#count some consonants m9\n",
    "def count_consonants(string):\n",
    "    count = 0\n",
    "    for x in string:\n",
    "        if is_consonant(x):\n",
    "            count += 1\n",
    "    return count\n",
    "\n",
    "count_consonants('Shoryuken!')"
   ]
  },
  {
   "cell_type": "code",
   "execution_count": 19,
   "id": "76d758a8",
   "metadata": {},
   "outputs": [
    {
     "data": {
      "text/plain": [
       "4"
      ]
     },
     "execution_count": 19,
     "metadata": {},
     "output_type": "execute_result"
    }
   ],
   "source": [
    "#Is it true, Brutus? Ay tu?\n",
    "def count_Trues(list):\n",
    "    count = 0\n",
    "    for bool in list:\n",
    "        if bool == True:\n",
    "            count += 1\n",
    "    return count\n",
    "\n",
    "count_Trues([True, False, True, False, True, False, True])"
   ]
  },
  {
   "cell_type": "code",
   "execution_count": 20,
   "id": "0e7ffa11",
   "metadata": {},
   "outputs": [],
   "source": [
    "#Thank you, Ryan Orsinger\n",
    "def get_db_url(db_name):\n",
    "    from env import host, user, password\n",
    "    return f'mysql+pymysql://{user}:{password}@{host}/{db_name}'"
   ]
  },
  {
   "cell_type": "code",
   "execution_count": 22,
   "id": "13cf66a5",
   "metadata": {},
   "outputs": [
    {
     "name": "stdout",
     "output_type": "stream",
     "text": [
      "True\n",
      "True\n",
      "True\n"
     ]
    }
   ],
   "source": [
    "#is it 3?\n",
    "def is_three(x):\n",
    "    if x == 3 or x == '3' or x.lower() == 'three':\n",
    "        return True\n",
    "    else:\n",
    "        return False\n",
    "if __name__ == '__main__':        \n",
    "    print(is_three('ThREe'))\n",
    "    print(is_three('3'))\n",
    "    print(is_three(3))"
   ]
  },
  {
   "cell_type": "code",
   "execution_count": null,
   "id": "c9552746",
   "metadata": {},
   "outputs": [],
   "source": []
  }
 ],
 "metadata": {
  "kernelspec": {
   "display_name": "Python 3",
   "language": "python",
   "name": "python3"
  },
  "language_info": {
   "codemirror_mode": {
    "name": "ipython",
    "version": 3
   },
   "file_extension": ".py",
   "mimetype": "text/x-python",
   "name": "python",
   "nbconvert_exporter": "python",
   "pygments_lexer": "ipython3",
   "version": "3.8.8"
  }
 },
 "nbformat": 4,
 "nbformat_minor": 5
}
